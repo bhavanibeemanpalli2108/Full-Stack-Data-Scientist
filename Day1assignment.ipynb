{
 "cells": [
  {
   "cell_type": "code",
   "execution_count": 1,
   "id": "2fcfaf15",
   "metadata": {},
   "outputs": [
    {
     "name": "stdout",
     "output_type": "stream",
     "text": [
      "Prime\n"
     ]
    }
   ],
   "source": [
    "# 11. A security system checks whether the entered code is prime for extra authentication. Write a program to check if a given number is prime.\n",
    "n = int(input(\"Enter number: \"))\n",
    "if n > 1:\n",
    "    for i in range(2, n):\n",
    "        if n % i == 0:\n",
    "            print(\"Not Prime\")\n",
    "            break\n",
    "    else:\n",
    "        print(\"Prime\")\n",
    "else:\n",
    "    print(\"Not Prime\")\n"
   ]
  },
  {
   "cell_type": "code",
   "execution_count": 7,
   "id": "279a7485",
   "metadata": {},
   "outputs": [
    {
     "name": "stdout",
     "output_type": "stream",
     "text": [
      "Second largest does not exist\n"
     ]
    }
   ],
   "source": [
    "# 12. In a class test, a teacher wants to know the second highest score among students. Write a program to find the second largest number in a list.\n",
    "lst = list(map(int, input(\"Enter numbers: \").split()))\n",
    "unique = sorted(set(lst))\n",
    "if len(unique) < 2:\n",
    "    print(\"Second largest does not exist\")\n",
    "else:\n",
    "    print(\"Second largest:\", unique[-2])\n"
   ]
  },
  {
   "cell_type": "code",
   "execution_count": 3,
   "id": "4d673107",
   "metadata": {},
   "outputs": [
    {
     "name": "stdout",
     "output_type": "stream",
     "text": [
      "650\n"
     ]
    }
   ],
   "source": [
    "# 13. A fitness app counts only even-numbered steps to calculate “balanced walking.” Write a program to find the sum of even numbers from 1 to 50.\n",
    "print(sum(i for i in range(1, 51) if i % 2 == 0))\n"
   ]
  },
  {
   "cell_type": "code",
   "execution_count": 4,
   "id": "57e724a8",
   "metadata": {},
   "outputs": [
    {
     "name": "stdout",
     "output_type": "stream",
     "text": [
      "Uppercase: 0\n",
      "Lowercase: 5\n"
     ]
    }
   ],
   "source": [
    "# 14. A typing speed test wants to know how many uppercase and lowercase letters a user typed. Write a program to count uppercase and lowercase characters in a string.\n",
    "s = input(\"Enter string: \")\n",
    "u = sum(1 for c in s if c.isupper())\n",
    "l = sum(1 for c in s if c.islower())\n",
    "print(\"Uppercase:\", u)\n",
    "print(\"Lowercase:\", l)\n"
   ]
  },
  {
   "cell_type": "code",
   "execution_count": 8,
   "id": "ebe666c0",
   "metadata": {},
   "outputs": [
    {
     "name": "stdout",
     "output_type": "stream",
     "text": [
      "0 1 1 2 3 5 8 13 21 34 55 89 144 233 377 610 987 1597 2584 4181 6765 10946 17711 28657 46368 75025 121393 196418 317811 514229 832040 1346269 2178309 3524578 5702887 9227465 14930352 24157817 39088169 63245986 102334155 165580141 267914296 433494437 701408733 "
     ]
    }
   ],
   "source": [
    "# 15. A financial tool simulates Fibonacci-like growth in savings. Write a program to generate the Fibonacci sequence up to n terms.\n",
    "try:\n",
    "    n = int(input(\"Enter terms: \"))\n",
    "    a, b = 0, 1\n",
    "    for _ in range(n):\n",
    "        print(a, end=\" \")\n",
    "        a, b = b, a + b\n",
    "except ValueError:\n",
    "    print(\"Please enter a valid integer.\")\n"
   ]
  },
  {
   "cell_type": "code",
   "execution_count": 6,
   "id": "8bd7c2af",
   "metadata": {},
   "outputs": [
    {
     "name": "stdout",
     "output_type": "stream",
     "text": [
      "Not Anagram\n"
     ]
    }
   ],
   "source": [
    "# 16. A word puzzle game checks if two words are anagrams. Write a program to check if two strings are anagrams.\n",
    "s1 = input(\"Enter first: \")\n",
    "s2 = input(\"Enter second: \")\n",
    "print(\"Anagram\" if sorted(s1) == sorted(s2) else \"Not Anagram\")\n"
   ]
  },
  {
   "cell_type": "code",
   "execution_count": 9,
   "id": "7212b31e",
   "metadata": {},
   "outputs": [
    {
     "name": "stdout",
     "output_type": "stream",
     "text": [
      "Not Perfect\n"
     ]
    }
   ],
   "source": [
    "# 17. A science experiment needs to verify whether a number is perfect (sum of divisors = number). Write a program to check if a number is a perfect number.\n",
    "n = int(input(\"Enter number: \"))\n",
    "if sum(i for i in range(1, n) if n % i == 0) == n:\n",
    "    print(\"Perfect Number\")\n",
    "else:\n",
    "    print(\"Not Perfect\")\n"
   ]
  },
  {
   "cell_type": "code",
   "execution_count": 12,
   "id": "efb15042",
   "metadata": {},
   "outputs": [
    {
     "name": "stdout",
     "output_type": "stream",
     "text": [
      "Percentage: 61.8 Grade: C\n"
     ]
    }
   ],
   "source": [
    "# 18. A school report system calculates percentage and assigns grades. Write a program that takes 5 subject marks, calculates percentage, and prints the grade.\n",
    "marks = [int(input(\"Enter mark: \")) for _ in range(5)]\n",
    "p = sum(marks) / 5\n",
    "if p >= 90: g = \"A\"\n",
    "elif p >= 75: g = \"B\"\n",
    "elif p >= 50: g = \"C\"\n",
    "else: g = \"Fail\"\n",
    "print(\"Percentage:\", p, \"Grade:\", g)\n"
   ]
  },
  {
   "cell_type": "code",
   "execution_count": 13,
   "id": "f4b221b4",
   "metadata": {},
   "outputs": [
    {
     "name": "stdout",
     "output_type": "stream",
     "text": [
      "2 3 5 7 11 13 17 19 23 29 31 37 41 43 47 53 59 61 67 71 73 79 83 89 97 "
     ]
    }
   ],
   "source": [
    "# 19. A mathematics quiz app generates all prime numbers between 1 and 100. Write a program to print all prime numbers in this range.\n",
    "for n in range(2, 101):\n",
    "    if all(n % i != 0 for i in range(2, int(n**0.5)+1)):\n",
    "        print(n, end=\" \")\n"
   ]
  },
  {
   "cell_type": "code",
   "execution_count": 14,
   "id": "b94e5c4b",
   "metadata": {},
   "outputs": [
    {
     "name": "stdout",
     "output_type": "stream",
     "text": [
      "6\n"
     ]
    }
   ],
   "source": [
    "# 20. An online editor counts words in an article but doesn’t allow using split(). Write a program to count the number of words in a sentence.\n",
    "s = input(\"Enter sentence: \") + \" \"\n",
    "count = 0\n",
    "word = False\n",
    "for c in s:\n",
    "    if c != \" \" and not word:\n",
    "        count += 1\n",
    "        word = True\n",
    "    elif c == \" \":\n",
    "        word = False\n",
    "print(count)\n"
   ]
  }
 ],
 "metadata": {
  "kernelspec": {
   "display_name": "venv",
   "language": "python",
   "name": "python3"
  },
  "language_info": {
   "codemirror_mode": {
    "name": "ipython",
    "version": 3
   },
   "file_extension": ".py",
   "mimetype": "text/x-python",
   "name": "python",
   "nbconvert_exporter": "python",
   "pygments_lexer": "ipython3",
   "version": "3.11.13"
  }
 },
 "nbformat": 4,
 "nbformat_minor": 5
}
