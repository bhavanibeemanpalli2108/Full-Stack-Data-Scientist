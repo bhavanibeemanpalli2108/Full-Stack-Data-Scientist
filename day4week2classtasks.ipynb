{
 "cells": [
  {
   "cell_type": "code",
   "execution_count": 47,
   "id": "be0fbbf0",
   "metadata": {},
   "outputs": [
    {
     "name": "stdout",
     "output_type": "stream",
     "text": [
      "total words in a file: 23\n"
     ]
    }
   ],
   "source": [
    "# 1. Problem: Given a text file, count the total number of words.\n",
    "def count_words_in_a_file():\n",
    "    fp=open(\"code1.txt\",\"r\")\n",
    "    file_content=fp.read()\n",
    "    file_content=file_content.split()\n",
    "    count=0\n",
    "    for words in file_content:\n",
    "        count+=1\n",
    "    print(\"total words in a file:\",count)    \n",
    "count_words_in_a_file()        "
   ]
  },
  {
   "cell_type": "code",
   "execution_count": 48,
   "id": "fc991e7b",
   "metadata": {},
   "outputs": [
    {
     "name": "stdout",
     "output_type": "stream",
     "text": [
      "weak\n"
     ]
    }
   ],
   "source": [
    "# 2. Problem: Write a program to check if a password is strong (at least 8 characters, contains uppercase, lowercase, digit, and special char).\n",
    "def strong_password():\n",
    "    pwd=input(\"enter the password:\")\n",
    "    if len(pwd)>8:\n",
    "        print(\"strong in length!\")\n",
    "        for ch in pwd:\n",
    "            if ch.isupper():\n",
    "                break\n",
    "        for ch in pwd:\n",
    "            if ch.islower():\n",
    "                break  \n",
    "        for ch in pwd:\n",
    "            if ch.isdigit():\n",
    "                break     \n",
    "        for ch in pwd:\n",
    "            if not ch.isalnum():\n",
    "                break      \n",
    "        print(\"string pwd\")\n",
    "    else:\n",
    "        print(\"weak\")    \n",
    "strong_password()            \n",
    "                \n"
   ]
  },
  {
   "cell_type": "code",
   "execution_count": null,
   "id": "8a12a55d",
   "metadata": {},
   "outputs": [],
   "source": [
    "# 3. Problem: Implement a calculator with +, -, *, / operations.\n",
    "def calci():\n",
    "    a,b=map(int,input().split(\",\"))\n",
    "    try:\n",
    "        print(f\"a+b:{a+b}\\na-b:{a-b}\\na*b:{a*b}\\na/b:{a/b}\")\n",
    "    except:\n",
    "        print(\"exception occured\")    \n",
    "calci()    "
   ]
  },
  {
   "cell_type": "code",
   "execution_count": null,
   "id": "94869d39",
   "metadata": {},
   "outputs": [
    {
     "data": {
      "text/plain": [
       "['a', 'e', 'w']"
      ]
     },
     "execution_count": 24,
     "metadata": {},
     "output_type": "execute_result"
    }
   ],
   "source": [
    "# 4. Problem: Given a list of student names, find duplicates.\n",
    "list=['a','a','c','e','e','w','w']\n",
    "dup_list=[]\n",
    "for element in list:\n",
    "    ec=list.count(element)\n",
    "    if element in dup_list:\n",
    "        continue\n",
    "    if ec>1:\n",
    "        # print(element)\n",
    "        dup_list.append(element)\n",
    "    else:\n",
    "        pass\n",
    "dup_list    \n"
   ]
  },
  {
   "cell_type": "code",
   "execution_count": null,
   "id": "8c3bf255",
   "metadata": {},
   "outputs": [
    {
     "name": "stdout",
     "output_type": "stream",
     "text": [
      "68.0\n"
     ]
    }
   ],
   "source": [
    "# 5. Problem: Convert between Celsius and Fahrenheit.\n",
    "def c_to_f_conversion():\n",
    "    c=int(input(\"enter the celcius value\"))\n",
    "    f=(c*(9/5))+32\n",
    "    print(f)\n",
    "c_to_f_conversion()    \n"
   ]
  },
  {
   "cell_type": "code",
   "execution_count": 8,
   "id": "5a5084da",
   "metadata": {},
   "outputs": [
    {
     "name": "stdout",
     "output_type": "stream",
     "text": [
      "Largest element: 5\n"
     ]
    }
   ],
   "source": [
    "# 6. Problem: Find the largest number from a list of integers.\n",
    "def largest_element_func():\n",
    "    my_list = list(map(int, input(\"Enter numbers separated by commas: \").split()))\n",
    "    print(\"Largest element:\", max(my_list))\n",
    "largest_element_func()\n"
   ]
  },
  {
   "cell_type": "code",
   "execution_count": null,
   "id": "1e31ad20",
   "metadata": {},
   "outputs": [],
   "source": [
    "# 7. Problem: Calculate Simple Interest."
   ]
  },
  {
   "cell_type": "code",
   "execution_count": null,
   "id": "cd80b4b1",
   "metadata": {},
   "outputs": [],
   "source": [
    "# 8. Problem: Given a dictionary of student names and attendance %, find defaulters (<75%)."
   ]
  },
  {
   "cell_type": "code",
   "execution_count": 16,
   "id": "1c4d9d21",
   "metadata": {},
   "outputs": [
    {
     "name": "stdout",
     "output_type": "stream",
     "text": [
      "55\n"
     ]
    }
   ],
   "source": [
    "# 9. Problem: Input: 1234 → Output: 10\n",
    "num=input(\"enter the number:\")\n",
    "sum=0\n",
    "for d in num:\n",
    "    n=int(d)\n",
    "    sum=sum+n\n",
    "print(sum)    "
   ]
  },
  {
   "cell_type": "code",
   "execution_count": 27,
   "id": "f5433c1b",
   "metadata": {},
   "outputs": [
    {
     "name": "stdout",
     "output_type": "stream",
     "text": [
      "prime\n"
     ]
    }
   ],
   "source": [
    "# 10. Problem: Write a function to check if a number is prime.\n",
    "def prime_finder(number):\n",
    "    count=0\n",
    "    for i in range(1,number+1):\n",
    "        if number%i==0:\n",
    "            count+=1\n",
    "        else:\n",
    "            pass    \n",
    "    if count<=2:\n",
    "        print(\"prime\") \n",
    "    else:\n",
    "        print(\"composite\")    \n",
    "n=int(input())            \n",
    "prime_finder(n)\n"
   ]
  },
  {
   "cell_type": "code",
   "execution_count": 28,
   "id": "4fa66639",
   "metadata": {},
   "outputs": [
    {
     "name": "stdout",
     "output_type": "stream",
     "text": [
      "5\n",
      "2\n"
     ]
    }
   ],
   "source": [
    "# 11. Problem: Find smallest and largest numbers from a list.\n",
    "my_list=list(map(int,input(\"enter the  list elements:\").split()))\n",
    "print(f\"{max(my_list)}\\n{min(my_list)}\")"
   ]
  },
  {
   "cell_type": "code",
   "execution_count": 29,
   "id": "e6dc0812",
   "metadata": {},
   "outputs": [],
   "source": [
    "# 12. Problem: Given items with prices in a dictionary, calculate total bill.\n",
    "def bill():\n",
    "    item_dict={}\n",
    "    n=int(input(\"no of entries in a dictionary\"))\n",
    "    total=0\n",
    "    for i in range(n):\n",
    "        item=input(\"enter the items:\")\n",
    "        price=int(input(\"enter the input:\"))\n",
    "        item_dict[item]=price\n",
    "        total+=price\n",
    "bill()        \n"
   ]
  },
  {
   "cell_type": "code",
   "execution_count": 30,
   "id": "d5c126df",
   "metadata": {},
   "outputs": [
    {
     "name": "stdout",
     "output_type": "stream",
     "text": [
      "3\n"
     ]
    }
   ],
   "source": [
    "# 13. Problem: Input 3 numbers, print the largest.\n",
    "a,b,c=map(int,input(\"enter the input:\").split())\n",
    "if a>b and a>c:\n",
    "    print(a)\n",
    "elif b>c and b>a:\n",
    "    print(b)\n",
    "elif c>a and c>b:\n",
    "    print(c)        \n"
   ]
  },
  {
   "cell_type": "code",
   "execution_count": null,
   "id": "8515d8eb",
   "metadata": {},
   "outputs": [],
   "source": [
    "# 14. Problem: Count how many times each character appears in a string.\n",
    "string=input(\"enter the string:\")\n",
    "for ch in string:\n",
    "    "
   ]
  },
  {
   "cell_type": "code",
   "execution_count": null,
   "id": "8e783528",
   "metadata": {},
   "outputs": [],
   "source": [
    "# 15. Problem: Calculate electricity bill:\n",
    "# First 100 units → ₹5/unit\n",
    "# Next 100 units → ₹7/unit\n",
    "# Above 200 units → ₹10/unit"
   ]
  },
  {
   "cell_type": "code",
   "execution_count": null,
   "id": "9f202300",
   "metadata": {},
   "outputs": [],
   "source": [
    "# 16. Problem: Sort a list of names in ascending order."
   ]
  },
  {
   "cell_type": "code",
   "execution_count": null,
   "id": "f2838892",
   "metadata": {},
   "outputs": [
    {
     "data": {
      "text/plain": [
       "'4321'"
      ]
     },
     "execution_count": 39,
     "metadata": {},
     "output_type": "execute_result"
    }
   ],
   "source": [
    "# 17. Problem: Input: 1234 → Output: 4321\n",
    "n=input()\n",
    "rev=n[::-1]\n",
    "rev"
   ]
  },
  {
   "cell_type": "code",
   "execution_count": null,
   "id": "02e4170a",
   "metadata": {},
   "outputs": [],
   "source": [
    "# 18. Problem: Given a list, count positive, negative, and zero numbers.\n",
    "\n",
    "    "
   ]
  },
  {
   "cell_type": "code",
   "execution_count": 7,
   "id": "fd90f740",
   "metadata": {},
   "outputs": [
    {
     "data": {
      "text/plain": [
       "[2, 3, 4, 5, 6]"
      ]
     },
     "execution_count": 7,
     "metadata": {},
     "output_type": "execute_result"
    }
   ],
   "source": [
    "# 19. Problem: User has 3 attempts to enter correct PIN.\n",
    "num=list(map(int,input(\"enter\").split()))\n",
    "num"
   ]
  },
  {
   "cell_type": "code",
   "execution_count": null,
   "id": "2b4265c1",
   "metadata": {},
   "outputs": [],
   "source": [
    "# 20. Problem: Write a program that asks for two numbers and divides them. Handle division by zero."
   ]
  },
  {
   "cell_type": "code",
   "execution_count": null,
   "id": "a00356ff",
   "metadata": {},
   "outputs": [],
   "source": [
    "# 21. Problem: Write a program that handles both ValueError (invalid input) and ZeroDivisionError."
   ]
  },
  {
   "cell_type": "code",
   "execution_count": null,
   "id": "d434a73f",
   "metadata": {},
   "outputs": [],
   "source": [
    "# 22. Problem: If withdrawal amount is greater than balance, raise an exception."
   ]
  },
  {
   "cell_type": "code",
   "execution_count": null,
   "id": "af7ee0d2",
   "metadata": {},
   "outputs": [],
   "source": [
    "# 23. Problem: Calculate total price, handle invalid input, and always show \"Bill processing finished\".\n",
    "# • First 100 units → ₹5/unit\n",
    "# • Next 100 units → ₹7/unit\n",
    "# • Above 200 units → ₹10/uni"
   ]
  }
 ],
 "metadata": {
  "kernelspec": {
   "display_name": "Python 3",
   "language": "python",
   "name": "python3"
  },
  "language_info": {
   "codemirror_mode": {
    "name": "ipython",
    "version": 3
   },
   "file_extension": ".py",
   "mimetype": "text/x-python",
   "name": "python",
   "nbconvert_exporter": "python",
   "pygments_lexer": "ipython3",
   "version": "3.11.13"
  }
 },
 "nbformat": 4,
 "nbformat_minor": 5
}
