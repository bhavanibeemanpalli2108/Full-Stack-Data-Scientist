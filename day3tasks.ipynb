{
 "cells": [
  {
   "cell_type": "code",
   "execution_count": null,
   "id": "306d5eb9",
   "metadata": {},
   "outputs": [
    {
     "name": "stdout",
     "output_type": "stream",
     "text": [
      "bhavani,v\n",
      "bhaVANI\n"
     ]
    }
   ],
   "source": [
    "# # TOPIC 9\n",
    "# # Write a function(preLetterCase) that accepts two parameters ( a string ,and a letter). \n",
    "# # The function must return the string with all characters before the first instance of the letter converted\n",
    "# # to lowercase and all other characters converted to uppercase. Hence, if the specified letter is the first \n",
    "# # character of the string then the entire string will be converted to uppercase. \n",
    "# # The new string should be returned by the function.\n",
    "\n",
    "def conditional_capitalize(strp, lp):\n",
    "    # print(strp, lp,sep=\",\", end=\"\\n\")\n",
    "    result=\"\"\n",
    "    for ch in strp:\n",
    "        if ch==lp:\n",
    "            i=strp.index(lp)\n",
    "            result1=strp[0:i].lower()\n",
    "            result2=strp[i:].upper()\n",
    "    return result1+result2    \n",
    "strp=input(\"enter the string:\")\n",
    "lp=input(\"enter the letter:\")\n",
    "result=conditional_capitalize(strp,lp)\n",
    "print(result)\n",
    "\n",
    "\n",
    "\n"
   ]
  },
  {
   "cell_type": "code",
   "execution_count": null,
   "id": "8771f259",
   "metadata": {},
   "outputs": [
    {
     "name": "stdout",
     "output_type": "stream",
     "text": [
      "5.830951894845301\n"
     ]
    }
   ],
   "source": [
    "# # TOPIC 10\n",
    "# # Write a program to calculate the hypotenuse of a right angled triangle\n",
    "# import math\n",
    "def hypotenuse():\n",
    "    base=int(input(\"enter the base:\"))\n",
    "    height=int(input(\"enter the height:\"))\n",
    "    hyp=math.sqrt(math.pow(base,2)+math.pow(height,2))\n",
    "    return hyp\n",
    "result=hypotenuse()\n",
    "print(result)\n"
   ]
  },
  {
   "cell_type": "code",
   "execution_count": null,
   "id": "578da9f4",
   "metadata": {},
   "outputs": [
    {
     "name": "stdout",
     "output_type": "stream",
     "text": [
      "Original attributes and their values of the Student class:\n",
      "\n",
      "Student ID: M11\n",
      "Student Name: AARYA\n"
     ]
    }
   ],
   "source": [
    "# # TOPIC  11\n",
    "# # Write a Python class named Student with two attributes student_id, student_name. Add a new attribute student_class. \n",
    "# # Create a function to display the entire attribute and their values in Student class.\n",
    "\n",
    "# # Sample Input:\n",
    "\n",
    "# # Enter Student Id : M11\n",
    "\n",
    "# # Enter Student Name: Anusha Rao\n",
    "\n",
    "# # Expected Output:\n",
    "\n",
    "# # Original attributes and their values of the Student class:\n",
    "\n",
    "# # Student ID: M11\n",
    "\n",
    "# # Student Name: Anusha Rao\n",
    "class Student:\n",
    "    def __init__(self, student_id, student_name):\n",
    "        self.student_id = student_id\n",
    "        self.student_name = student_name\n",
    "        self.student_class = None   \n",
    "    def display_attributes(self):\n",
    "        print(\"Original attributes and their values of the Student class:\\n\")\n",
    "        print(f\"Student ID: {self.student_id}\")\n",
    "        print(f\"Student Name: {self.student_name}\")\n",
    "        if self.student_class is not None:\n",
    "            print(f\"Student Class: {self.student_class}\")\n",
    "sid = input(\"Enter Student Id : \")\n",
    "sname = input(\"Enter Student Name: \")\n",
    "\n",
    "student = Student(sid, sname)\n",
    "student.display_attributes()\n",
    "       \n"
   ]
  },
  {
   "cell_type": "code",
   "execution_count": 18,
   "id": "256d3cfb",
   "metadata": {},
   "outputs": [
    {
     "name": "stdout",
     "output_type": "stream",
     "text": [
      "[2, 3, 5, 7, 11, 13, 17, 19]\n"
     ]
    }
   ],
   "source": [
    "# Python Functions\n",
    " \n",
    "# 1. Prime Number Finder\n",
    " \n",
    "#    * Function that returns all prime numbers up to `n`.\n",
    "#    * Input: `n = 20`\n",
    "#    * Output: `[2, 3, 5, 7, 11, 13, 17, 19]`\n",
    "\n",
    "def prime_finder(n):\n",
    "    primes = []\n",
    "    for num in range(2, n + 1):\n",
    "        is_prime = True\n",
    "        for i in range(2, int(num ** 0.5) + 1):\n",
    "            if num % i == 0:\n",
    "                is_prime = False\n",
    "                break\n",
    "        if is_prime:\n",
    "            primes.append(num)\n",
    "    return primes\n",
    "\n",
    "# Input\n",
    "n = int(input(\"Enter the value of n: \"))\n",
    "result = prime_finder(n)\n",
    "print(result)\n"
   ]
  },
  {
   "cell_type": "code",
   "execution_count": 24,
   "id": "581aa3b1",
   "metadata": {},
   "outputs": [
    {
     "name": "stdout",
     "output_type": "stream",
     "text": [
      "True\n"
     ]
    }
   ],
   "source": [
    "# 2. Palindrome Checker\n",
    " \n",
    "#    * Check if a string is palindrome (ignoring spaces & case).\n",
    "#    * Input: `\"Never odd or even\"`\n",
    "#    * Output: `True`\n",
    "def palindrome_Checker():\n",
    "   str=input(\"enter the string:\")\n",
    "   str=str.lower()\n",
    "   str=str.replace(\" \",\"\")\n",
    "   rev=str[::-1]\n",
    "   if str==rev:\n",
    "      print(\"True\")\n",
    "   else:\n",
    "      print(\"False\")   \n",
    "palindrome_Checker()      "
   ]
  },
  {
   "cell_type": "code",
   "execution_count": 33,
   "id": "59100860",
   "metadata": {},
   "outputs": [
    {
     "name": "stdout",
     "output_type": "stream",
     "text": [
      "True\n"
     ]
    }
   ],
   "source": [
    "# 3. Anagram Checker\n",
    " \n",
    "#    * Function checks if two words are anagrams.\n",
    "#    * Input: `\"listen\", \"silent\"`\n",
    "#    * Output: `True`\n",
    "def anagram():\n",
    "   a, b= map(str, input(\"Enter 2 strings or numbers(words):\").split(\",\"))\n",
    "   if len(a)==len(b):\n",
    "      if sorted(a)==sorted(b):\n",
    "         print(\"True\")\n",
    "   else:\n",
    "      print(\"fALSE\")          \n",
    "anagram()"
   ]
  },
  {
   "cell_type": "code",
   "execution_count": 36,
   "id": "88421cd8",
   "metadata": {},
   "outputs": [
    {
     "name": "stdout",
     "output_type": "stream",
     "text": [
      "vowel:2\n",
      "consonants:5\n"
     ]
    }
   ],
   "source": [
    "# 4. Count Vowels & Consonants\n",
    " \n",
    "#    * Return count of vowels & consonants.\n",
    "#    * Input: `\"hello\"`\n",
    "#    * Output: `Vowels=2, Consonants=3`\n",
    "def count_Vowels_consonants():\n",
    "    vc=0\n",
    "    cc=0\n",
    "    string=input(\"enter the string:\")\n",
    "    vowels=['a','e','i','o','u','A','E','I','O','U']\n",
    "    for ch in string:\n",
    "        if ch in vowels:\n",
    "            vc+=1\n",
    "        else:\n",
    "            cc+=1 \n",
    "    print(f\"vowel:{vc}\\nconsonants:{cc}\")        \n",
    "count_Vowels_consonants()               "
   ]
  },
  {
   "cell_type": "code",
   "execution_count": 41,
   "id": "34b84ac8",
   "metadata": {},
   "outputs": [
    {
     "name": "stdout",
     "output_type": "stream",
     "text": [
      "pandora\n"
     ]
    }
   ],
   "source": [
    "# 5. Longest Word Finder\n",
    " \n",
    "# * Return longest word in a sentence.\n",
    "# * Input: `\"Python is amazing\"`\n",
    "# * Output: `\"amazing\"`\n",
    "def Longest_Word_Finder():\n",
    "    string=input(\"enter the string:\")\n",
    "    string=string.split()\n",
    "    longestword=\"\"\n",
    "    for s in string:\n",
    "        if len(s)>len(longestword):\n",
    "            longestword=s\n",
    "        else:\n",
    "            pass\n",
    "    print(longestword)    \n",
    "Longest_Word_Finder()\n"
   ]
  },
  {
   "cell_type": "code",
   "execution_count": null,
   "id": "ffcec14a",
   "metadata": {},
   "outputs": [],
   "source": [
    "# Python Modules (5 challenges)\n",
    " \n",
    "# 1. Random Password Generator (`random`, `string`)\n",
    " \n",
    "# * Input: `length=6`\n",
    "# * Output: `\"aB9@xQ\"`\n",
    "import random\n",
    "def Random_Password_Generator():\n",
    "    random.\n"
   ]
  },
  {
   "cell_type": "code",
   "execution_count": 43,
   "id": "54724e79",
   "metadata": {},
   "outputs": [
    {
     "name": "stdout",
     "output_type": "stream",
     "text": [
      "5.0\n",
      "15511210043330985984000000\n",
      "-0.13235175009777303\n",
      "0.9912028118634736\n"
     ]
    }
   ],
   "source": [
    "# 2. Simple Calculator with `math`\n",
    " \n",
    "# * Perform sqrt, factorial, sin, cos.\n",
    "# * Input: `sqrt(25)`\n",
    "# * Output: `5.0`\n",
    "import math\n",
    "def cal():\n",
    "    n=int(input(\"enter a number:\"))\n",
    "    sqrt=math.sqrt(n)\n",
    "    fact=math.factorial(n)\n",
    "    sin=math.sin(n)\n",
    "    cos=math.cos(n)\n",
    "    print(sqrt,fact,sin,cos,sep=\"\\n\",end=\"\\n\")\n",
    "cal()    "
   ]
  },
  {
   "cell_type": "code",
   "execution_count": null,
   "id": "4d331818",
   "metadata": {},
   "outputs": [],
   "source": [
    "# 3. Word Frequency Counter (`collections.Counter`)\n",
    " \n",
    "# * Input: `\"cat dog cat\"`\n",
    "# * Output: `{'cat':2,'dog':1}`\n",
    "def Word_Frequency_Counter():\n",
    "    sentence=input(\"enter the string:\")\n",
    "    sentence=sentence.split()\n",
    "    # for word in sentence"
   ]
  },
  {
   "cell_type": "code",
   "execution_count": 45,
   "id": "d8969f4a",
   "metadata": {},
   "outputs": [
    {
     "name": "stdout",
     "output_type": "stream",
     "text": [
      "Weather:windy, Temp:32deg C\n"
     ]
    }
   ],
   "source": [
    "# 4. Weather Simulator (`random`)\n",
    " \n",
    "# * Input: None\n",
    "# * Output: `\"Weather: Sunny, Temp: 32°C\"`\n",
    "import random\n",
    "def weather_simulator():\n",
    "    weather_conditions=[\"sunny\",\"rainy\",\"cloudy\",\"windy\",\"humid\"]\n",
    "    print(f\"Weather:{random.choice(weather_conditions)}, Temp:{random.randint(1,45)}deg C\")\n",
    "weather_simulator()      \n"
   ]
  },
  {
   "cell_type": "code",
   "execution_count": null,
   "id": "f3a303e4",
   "metadata": {},
   "outputs": [],
   "source": [
    "# 5. Timer Program (`time`)\n",
    "\n",
    "# * Input: `countdown(5)`\n",
    "# * Output:\n",
    "\n",
    "#   ```\n",
    "#   5  \n",
    "#   4  \n",
    "#   3  \n",
    "#   2  \n",
    "#   1  \n",
    "#   Time’s up!\n",
    "import time\n",
    "def timer_program():\n",
    "    n=int(input(\"enter the countdown:\"))\n",
    "    \n",
    "timer_program()    "
   ]
  },
  {
   "cell_type": "code",
   "execution_count": null,
   "id": "12c573e8",
   "metadata": {},
   "outputs": [],
   "source": [
    "# Python OOPs (5 challenges)\n",
    " \n",
    "# 1. Bank Account Class\n",
    " \n",
    "# Attributes:\n",
    " \n",
    "# * `balance` → stores the current money in the account\n",
    "# * `owner` (optional) → name of account holder\n",
    " \n",
    "# Methods:\n",
    " \n",
    "# * `deposit(amount)` → adds money to balance\n",
    "# * `withdraw(amount)` → subtracts money if enough funds\n",
    "# * `get_balance()` → returns balance\n",
    " \n",
    "# Example:\n",
    " \n",
    "# ```python\n",
    "# acc = BankAccount(100)   # initial balance = 100\n",
    "# acc.deposit(50)          # balance = 150\n",
    "# acc.withdraw(30)         # balance = 120\n",
    "# print(acc.get_balance())\n",
    "# ```\n",
    " \n",
    "# Output:\n",
    " \n",
    "# ```\n",
    "# Balance: 120\n",
    "# ```\n",
    " \n",
    "# ---\n",
    "class Bank_Account_Class:\n",
    "    def  deposit(amount):\n",
    "        balance=balance+\n",
    "    def  withdraw(amount):\n",
    "\n",
    "    def get_balance():\n"
   ]
  },
  {
   "cell_type": "code",
   "execution_count": null,
   "id": "e7a5e2f7",
   "metadata": {},
   "outputs": [],
   "source": [
    "# 2. Student Class with Average\n",
    " \n",
    "# Attributes:\n",
    " \n",
    "# * `name` → student name\n",
    "# * `marks` → list of student marks `[90, 80, 85]`\n",
    " \n",
    "# Methods:\n",
    " \n",
    "# * `get_average()` → returns average marks\n",
    "# * `add_mark(mark)` → add new score\n",
    "# * `get_highest()` → return highest mark\n",
    "# * `get_lowest()` → return lowest mark\n",
    " \n",
    "# Example:\n",
    " \n",
    "# ```python\n",
    "# s = Student(\"Tom\", [90, 80, 85])\n",
    "# print(s.get_average())   # (90+80+85)/3 = 85.0\n",
    "# s.add_mark(95)           # marks = [90,80,85,95]\n",
    "# print(s.get_highest())   # 95\n",
    "# ```\n",
    " \n",
    "# Output:\n",
    " \n",
    "# ```\n",
    "# 85.0\n",
    "# 95\n",
    "# ```\n",
    " \n",
    "# ---"
   ]
  },
  {
   "cell_type": "code",
   "execution_count": null,
   "id": "def37655",
   "metadata": {},
   "outputs": [],
   "source": [
    "# 3. Employee Bonus System\n",
    " \n",
    "# Attributes:\n",
    " \n",
    "# * `name` → employee name\n",
    "# * `salary` → base salary\n",
    "# * `role` → role of employee (e.g., Manager, Developer, Intern)\n",
    " \n",
    "# Methods:\n",
    " \n",
    "# * `bonus()` → calculates bonus depending on role:\n",
    " \n",
    "#   * Manager → 20% of salary\n",
    "#   * Developer → 10% of salary\n",
    "#   * Intern → 5% of salary\n",
    " \n",
    "# Example:\n",
    " \n",
    "# ```python\n",
    "# m = Manager(\"Alice\", 50000)\n",
    "# print(m.bonus())\n",
    "# ```\n",
    " \n",
    "# Output:\n",
    " \n",
    "# ```\n",
    "# 10000\n",
    "# ```\n",
    " \n",
    "# ---"
   ]
  },
  {
   "cell_type": "code",
   "execution_count": null,
   "id": "18c898c8",
   "metadata": {},
   "outputs": [],
   "source": [
    "# 4. Shape Area Calculator\n",
    " \n",
    "# Base Class (Shape):\n",
    " \n",
    "# *Attribute: `name`\n",
    "# *Method: `area()` → to be overridden by subclasses\n",
    " \n",
    "# Subclasses:\n",
    " \n",
    "# * `Circle(radius)` → area = π × r²\n",
    "# * `Rectangle(width, height)` → area = width × height\n",
    " \n",
    "# Example:\n",
    " \n",
    "# ```python\n",
    "# c = Circle(7)\n",
    "# print(c.area())\n",
    "# r = Rectangle(4, 5)\n",
    "# print(r.area())\n",
    "# ```\n",
    " \n",
    "# Output:\n",
    " \n",
    "# ```\n",
    "# 153.94\n",
    "# 20\n",
    "# ```\n",
    " \n",
    "# ---"
   ]
  },
  {
   "cell_type": "code",
   "execution_count": null,
   "id": "960d8ebc",
   "metadata": {},
   "outputs": [],
   "source": [
    "# 5. E-commerce Order Class\n",
    " \n",
    "# Attributes:\n",
    " \n",
    "# * `items` → dictionary of items `{name: price}`\n",
    " \n",
    "# Methods:\n",
    " \n",
    "# * `add(item, price)` → adds an item to order\n",
    "# * `remove(item)` → removes item\n",
    "# * `calculate_total()` → returns total price of all items\n",
    "# * `show_items()` → lists all items in order\n",
    " \n",
    "# Example:\n",
    " \n",
    "# ```python\n",
    "# order = Order()\n",
    "# order.add(\"Shirt\", 500)\n",
    "# order.add(\"Shoes\", 1500)\n",
    "# print(order.calculate_total())\n",
    "# ```\n",
    " \n",
    "# Output:\n",
    " \n",
    "# ```\n",
    "# Total = 2000\n",
    "# ```"
   ]
  }
 ],
 "metadata": {
  "kernelspec": {
   "display_name": "Python 3",
   "language": "python",
   "name": "python3"
  },
  "language_info": {
   "codemirror_mode": {
    "name": "ipython",
    "version": 3
   },
   "file_extension": ".py",
   "mimetype": "text/x-python",
   "name": "python",
   "nbconvert_exporter": "python",
   "pygments_lexer": "ipython3",
   "version": "3.11.13"
  }
 },
 "nbformat": 4,
 "nbformat_minor": 5
}
