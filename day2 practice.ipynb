{
 "cells": [
  {
   "cell_type": "code",
   "execution_count": null,
   "id": "27645512",
   "metadata": {},
   "outputs": [
    {
     "name": "stdout",
     "output_type": "stream",
     "text": [
      "[1, 2, 0]\n",
      "None\n",
      "None\n",
      "[2, 1, 0, 50]\n"
     ]
    }
   ],
   "source": [
    "list=[]\n",
    "list.append(1)\n",
    "list.append(2)  \n",
    "list.append(0)\n",
    "print(list.sort())\n",
    "print(list.sort(reverse=True))\n",
    "list.append(50)\n",
    "list()\n",
    "print(list)"
   ]
  },
  {
   "cell_type": "code",
   "execution_count": 6,
   "id": "52197aae",
   "metadata": {},
   "outputs": [
    {
     "name": "stdout",
     "output_type": "stream",
     "text": [
      "(1, 2, 3, 1, 2)\n"
     ]
    }
   ],
   "source": [
    "l=(1,2,3)\n",
    "list=(1,2)\n",
    "l1=l+list\n",
    "print(l1)\n",
    "# list.append()"
   ]
  },
  {
   "cell_type": "code",
   "execution_count": 7,
   "id": "e52eda7c",
   "metadata": {},
   "outputs": [
    {
     "name": "stdout",
     "output_type": "stream",
     "text": [
      "{4, 5}\n"
     ]
    }
   ],
   "source": [
    "a={1,2,3,4,5}\n",
    "b={4,5,6,7,8}\n",
    "print(a&b)"
   ]
  },
  {
   "cell_type": "code",
   "execution_count": 10,
   "id": "4d0a68c8",
   "metadata": {},
   "outputs": [
    {
     "name": "stdout",
     "output_type": "stream",
     "text": [
      "c\n",
      "{1: 'a', 2: 'b'}\n"
     ]
    }
   ],
   "source": [
    "cardict={1:'a',2:'b',3:'c'}\n",
    "print(cardict.pop(3))\n",
    "print(cardict)"
   ]
  }
 ],
 "metadata": {
  "kernelspec": {
   "display_name": "Python 3",
   "language": "python",
   "name": "python3"
  },
  "language_info": {
   "codemirror_mode": {
    "name": "ipython",
    "version": 3
   },
   "file_extension": ".py",
   "mimetype": "text/x-python",
   "name": "python",
   "nbconvert_exporter": "python",
   "pygments_lexer": "ipython3",
   "version": "3.11.13"
  }
 },
 "nbformat": 4,
 "nbformat_minor": 5
}
