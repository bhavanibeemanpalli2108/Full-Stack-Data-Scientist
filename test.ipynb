{
 "cells": [
  {
   "cell_type": "code",
   "execution_count": 2,
   "metadata": {},
   "outputs": [
    {
     "name": "stdout",
     "output_type": "stream",
     "text": [
      "3 2\n"
     ]
    }
   ],
   "source": [
    "# 1.You are developing a small calculator app. Write a program that takes two numbers from the user and swaps \n",
    "# them without using a third variable, so users can correct their input order.\\\n",
    "# print(\"hello\")\n",
    "def cal():\n",
    "    a=int(input(\"enter the value of a:\"))\n",
    "    b=int(input(\"enter the value of b:\"))\n",
    "    c=a\n",
    "    a=b\n",
    "    b=c\n",
    "    print(a,b,sep=\" \",end=\"\\n\")\n",
    "cal()"
   ]
  },
  {
   "cell_type": "code",
   "execution_count": 10,
   "metadata": {},
   "outputs": [
    {
     "name": "stdout",
     "output_type": "stream",
     "text": [
      "h\n",
      "f\n",
      "d\n",
      "g\n",
      "d\n",
      "s\n",
      "a\n"
     ]
    }
   ],
   "source": [
    "# 2.A library wants to build a feature to display book titles backwards for a “mirror view” theme. \n",
    "# Write a program that reverses a given string without using slicing.\n",
    "def rev():\n",
    "    book=input(\"enter the name:\")\n",
    "    # rev_name=string(reversed(book))\n",
    "    for i in range(len(book)-1,-1,-1):\n",
    "        print(book[i])\n",
    "rev()\n"
   ]
  },
  {
   "cell_type": "code",
   "execution_count": 21,
   "metadata": {},
   "outputs": [
    {
     "name": "stdout",
     "output_type": "stream",
     "text": [
      "4\n",
      "yes\n"
     ]
    }
   ],
   "source": [
    "# 3. An ATM machine verifies special numbers before processing transactions. \n",
    "# Write a program to check if a number entered by the customer is an Armstrong number\n",
    "def armstrong():\n",
    "    n=int(input(\"enter the number:\"))\n",
    "    val=n\n",
    "    vals=n\n",
    "    sums=0\n",
    "    # l=len(val)\n",
    "    count=0\n",
    "    while n>0:\n",
    "        count+=1\n",
    "        n=n//10\n",
    "    print(count)   \n",
    "    while val>0: \n",
    "        rem=val%10\n",
    "        sums=sums+rem**count\n",
    "        val=val//10\n",
    "    if vals==sums:\n",
    "        print(\"yes\")\n",
    "    else:\n",
    "        print(\"false\")    \n",
    "armstrong()            \n",
    "        \n",
    "        \n",
    "    "
   ]
  },
  {
   "cell_type": "code",
   "execution_count": 30,
   "metadata": {},
   "outputs": [
    {
     "name": "stdout",
     "output_type": "stream",
     "text": [
      "2 5\n"
     ]
    }
   ],
   "source": [
    "# 4. A language learning app wants to check how many vowels and consonants a user has typed in a practice sentence. \n",
    "# Write a program to count vowels and consonants in a given sentence.\n",
    "def vowel_count():\n",
    "    n=input(\"enter the string:\")\n",
    "    vowels=['a','e','i','o','u','A','E','I','O','U']\n",
    "    counte=0\n",
    "    countc=0\n",
    "    for i in n:\n",
    "        if i in vowels:\n",
    "            counte+=1\n",
    "        else:\n",
    "            countc+=1\n",
    "    print(counte,countc,sep=\" \",end=\"\\n\")     \n",
    "vowel_count()           \n"
   ]
  },
  {
   "cell_type": "code",
   "execution_count": 32,
   "metadata": {},
   "outputs": [
    {
     "name": "stdout",
     "output_type": "stream",
     "text": [
      "3 * 0 =0\n",
      "3 * 1 =3\n",
      "3 * 2 =6\n",
      "3 * 3 =9\n",
      "3 * 4 =12\n",
      "3 * 5 =15\n",
      "3 * 6 =18\n",
      "3 * 7 =21\n",
      "3 * 8 =24\n",
      "3 * 9 =27\n"
     ]
    }
   ],
   "source": [
    "# 5.In an e-learning platform, when a student inputs a number, the system should generate its multiplication table (up to 10) as practice material. \n",
    "# Write a program to do this.\n",
    "def elearning():\n",
    "    n=int(input(\"enetr the value of a number:\"))\n",
    "    for i in range(10):\n",
    "        print(f\"{n} * {i} ={n*i}\")\n",
    "elearning()        "
   ]
  },
  {
   "cell_type": "code",
   "execution_count": null,
   "metadata": {},
   "outputs": [],
   "source": [
    "# 6.A travel company checks leap years to calculate special discounts on leap day. \n",
    "# Write a program to check if a given year is a leap year."
   ]
  },
  {
   "cell_type": "code",
   "execution_count": null,
   "metadata": {},
   "outputs": [],
   "source": [
    "# 7.A gaming app wants to determine the highest score out of 5 attempts. \n",
    "# Write a program to take 5 numbers as input and print the largest."
   ]
  },
  {
   "cell_type": "code",
   "execution_count": null,
   "metadata": {},
   "outputs": [],
   "source": [
    "# 8.A healthcare app stores patient IDs and checks if they are palindromes for easy recall. \n",
    "# Write a program that checks if a given string ID is a palindrome."
   ]
  },
  {
   "cell_type": "code",
   "execution_count": null,
   "metadata": {},
   "outputs": [],
   "source": [
    "# 9.A factory wants to calculate the number of ways workers can be arranged in a line. \n",
    "# Write a program to find the factorial of a number."
   ]
  },
  {
   "cell_type": "code",
   "execution_count": null,
   "metadata": {},
   "outputs": [],
   "source": [
    "# 10.A company gives rewards for numbers divisible by both 3 and 5. \n",
    "Write a program to print all numbers between 1 and 100 that qualify."
   ]
  }
 ],
 "metadata": {
  "kernelspec": {
   "display_name": "venv",
   "language": "python",
   "name": "python3"
  },
  "language_info": {
   "codemirror_mode": {
    "name": "ipython",
    "version": 3
   },
   "file_extension": ".py",
   "mimetype": "text/x-python",
   "name": "python",
   "nbconvert_exporter": "python",
   "pygments_lexer": "ipython3",
   "version": "3.11.0"
  }
 },
 "nbformat": 4,
 "nbformat_minor": 2
}
