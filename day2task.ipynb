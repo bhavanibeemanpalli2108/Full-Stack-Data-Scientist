{
 "cells": [
  {
   "cell_type": "code",
   "execution_count": 1,
   "id": "d9990165",
   "metadata": {},
   "outputs": [
    {
     "name": "stdout",
     "output_type": "stream",
     "text": [
      "Total bill = (50*2) + (30*5) + (20*3) = 100 + 150 + 60 = 310\n"
     ]
    }
   ],
   "source": [
    "# 1 Scenario: A grocery shopkeeper wants to calculate the bill of 3 items. Prices and quantities should be stored in variables, and the program should display the total cost.\n",
    " \n",
    "# Sample Input:\n",
    " \n",
    "# Item1 Price: 50, Quantity: 2\n",
    "# Item2 Price: 30, Quantity: 5\n",
    "# Item3 Price: 20, Quantity: 3\n",
    " \n",
    " \n",
    "# Expected Output:\n",
    " \n",
    "# Total Bill = (50*2) + (30*5) + (20*3) = 100 + 150 + 60 = 310\n",
    " \n",
    "def bill():\n",
    "    p1,q1=map(int,input().split(\" \"))\n",
    "    p2,q2=map(int,input().split(\" \"))\n",
    "    p3,q3=map(int,input().split(\" \"))\n",
    "    print(f\"Total bill = ({p1}*{q1}) + ({p2}*{q2}) + ({p3}*{q3}) = {p1*q1} + {p2*q2} + {p3*q3} = {(p1*q1)+(p2*q2)+(p3*q3)}\")\n",
    "bill()\n",
    " \n",
    " \n"
   ]
  },
  {
   "cell_type": "code",
   "execution_count": null,
   "id": "417269b3",
   "metadata": {},
   "outputs": [],
   "source": [
    "\n",
    "# 2 Build a calculator that takes two numbers and performs addition, subtraction, multiplication, division, and modulus.\n",
    " \n",
    "# Sample Input:\n",
    " \n",
    "# Enter first number: 15\n",
    "# Enter second number: 4\n",
    " \n",
    " \n",
    "# Expected Output:\n",
    " \n",
    "# Addition = 19\n",
    "# Subtraction = 11\n",
    "# Multiplication = 60\n",
    "# Division = 3.75\n",
    "# Modulus = 3\n",
    "def cal():\n",
    "    n1=int(input(\"enter the first number: \"))\n",
    "    n2=int(input(\"enter the second number: \"))\n",
    "    print(f\"Addition = {}\")\n",
    " \n",
    " \n"
   ]
  },
  {
   "cell_type": "code",
   "execution_count": null,
   "id": "277ed5af",
   "metadata": {},
   "outputs": [],
   "source": [
    "# 3 A teacher wants a grading system where marks are input, and the grade is displayed.\n",
    " \n",
    "# Sample Input:\n",
    " \n",
    "# Enter marks: 82\n",
    " \n",
    " \n",
    "# Expected Output:\n",
    " \n",
    "# Grade: A (Excellent)\n",
    " \n",
    " \n",
    "# (Rules: >=90 → A+, 80–89 → A, 70–79 → B, 60–69 → C, <60 → Fail)\n",
    " \n"
   ]
  },
  {
   "cell_type": "code",
   "execution_count": null,
   "id": "ad32d4fd",
   "metadata": {},
   "outputs": [],
   "source": [
    "# 4 Student Marks List\n",
    "# Scenario: Store marks of 5 students in a list. Display the highest, lowest, and average marks.\n",
    " \n",
    "# Sample Input:\n",
    " \n",
    "# Marks: [45, 78, 88, 56, 90]\n",
    " \n",
    " \n",
    "# Expected Output:\n",
    " \n",
    "# Highest Marks = 90\n",
    "# Lowest Marks = 45\n",
    "# Average Marks = 71.4\n",
    " \n"
   ]
  },
  {
   "cell_type": "code",
   "execution_count": null,
   "id": "8358c3aa",
   "metadata": {},
   "outputs": [],
   "source": [
    "# 5 Create a phonebook using a dictionary where names are keys and numbers are values. Allow searching for a number by name.\n",
    " \n",
    "# Sample Input:\n",
    " \n",
    "# Phonebook = {\"Suhel\": 9876543210, \"Ravi\": 9123456780, \"Anita\": 9988776655}\n",
    "# Search Name: Ravi\n",
    " \n",
    " \n",
    "# Expected Output:\n",
    " \n",
    "# Phone Number of Ravi: 9123456780"
   ]
  },
  {
   "cell_type": "code",
   "execution_count": 8,
   "id": "70c38b84",
   "metadata": {},
   "outputs": [
    {
     "name": "stdout",
     "output_type": "stream",
     "text": [
      "word count: 78 \n",
      "Line count: 4 \n",
      "Vowel count: 141 \n",
      "length of th sentence:467\n"
     ]
    }
   ],
   "source": [
    "# 6 Write a program to count the number of words, characters, and vowels in a sentence.\n",
    " \n",
    "# Sample Input:\n",
    " \n",
    "# Enter sentence: \"Python is awesome\"\n",
    "\n",
    "# Expected Output:\n",
    " \n",
    "# Total Words = 3\n",
    "# Total Characters = 16\n",
    "# Total Vowels = 6\n",
    " \n",
    "def count_vowels_characters_words():\n",
    "    sentence=input(\"enter the sentence:\")\n",
    "    wc=1\n",
    "    lc=0\n",
    "    vc=0\n",
    "    vowels=['a','e','i','o','u','A','E','I','O','U']\n",
    "    for ch in sentence:\n",
    "        if  ((ch==\" \") or (ch==\"\\n\")):\n",
    "            wc+=1\n",
    "        if(ch==\"\\n\" or ch==\".\"):\n",
    "            lc+=1 \n",
    "        if ch in  vowels:\n",
    "            vc+=1\n",
    "    print(f\"word count: {wc} \\nLine count: {lc} \\nVowel count: {vc} \\nlength of th sentence:{len(sentence)}\")   \n",
    "count_vowels_characters_words()\n",
    "\n",
    " \n"
   ]
  },
  {
   "cell_type": "code",
   "execution_count": null,
   "id": "209fc7a5",
   "metadata": {},
   "outputs": [],
   "source": [
    "# 7 A bank provides simple interest and compound interest. A user inputs principal, rate, time, and type of interest. Program should calculate accordingly.\n",
    " \n",
    " \n",
    "# Sample Input:\n",
    " \n",
    " \n",
    "# Principal = 5000\n",
    "# Rate = 5\n",
    "# Time = 2\n",
    "# Interest Type = Compound\n",
    " \n",
    "# Expected Output:\n",
    " \n",
    "# Compound Interest = 512.50\n",
    "# Total Amount = 5512.50\n",
    " \n",
    " \n"
   ]
  },
  {
   "cell_type": "code",
   "execution_count": null,
   "id": "a0fb0da3",
   "metadata": {},
   "outputs": [],
   "source": [
    "# 8 Implement a Caesar Cipher encryption. User inputs a message and a shift key. Program outputs the encrypted text using operators.\n",
    " \n",
    " \n",
    "# Sample Input:\n",
    " \n",
    " \n",
    "# Message = \"HELLO\"\n",
    "# Shift = 3\n",
    " \n",
    " \n",
    " \n",
    "# Expected Output:\n",
    " \n",
    " \n",
    "# Encrypted Message: KHOOR\n",
    " \n",
    " \n"
   ]
  },
  {
   "cell_type": "code",
   "execution_count": null,
   "id": "9f9bdb37",
   "metadata": {},
   "outputs": [],
   "source": [
    "# 9 Build an ATM where users can withdraw money if they have sufficient balance, otherwise display “Insufficient Balance”. Handle PIN verification too.\n",
    " \n",
    " \n",
    "# Sample Input:\n",
    " \n",
    " \n",
    "# PIN = 1234\n",
    "# Balance = 5000\n",
    "# Withdraw = 2000\n",
    " \n",
    " \n",
    " \n",
    "# Expected Output:\n",
    " \n",
    " \n",
    "# PIN Verified.\n",
    "# Withdrawal Successful. Remaining Balance = 3000\n",
    " \n",
    " \n"
   ]
  },
  {
   "cell_type": "code",
   "execution_count": null,
   "id": "de142978",
   "metadata": {},
   "outputs": [],
   "source": [
    "# 10 Store a list of books in a library. Program should allow adding, removing, and displaying all books. Also, show total number of books.\n",
    " \n",
    "# Sample Input:\n",
    " \n",
    "# Books = [\"Python Basics\", \"Data Science\", \"AI Fundamentals\"]\n",
    "# Add Book: \"Machine Learning\"\n",
    "# Remove Book: \"Data Science\"\n",
    " \n",
    "# Expected Output:\n",
    " \n",
    "# Current Books: ['Python Basics', 'AI Fundamentals', 'Machine Learning']\n",
    "# Total Books: 3\n"
   ]
  }
 ],
 "metadata": {
  "kernelspec": {
   "display_name": "Python 3",
   "language": "python",
   "name": "python3"
  },
  "language_info": {
   "codemirror_mode": {
    "name": "ipython",
    "version": 3
   },
   "file_extension": ".py",
   "mimetype": "text/x-python",
   "name": "python",
   "nbconvert_exporter": "python",
   "pygments_lexer": "ipython3",
   "version": "3.11.13"
  }
 },
 "nbformat": 4,
 "nbformat_minor": 5
}
