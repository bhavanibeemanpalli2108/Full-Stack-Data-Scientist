{
 "cells": [
  {
   "cell_type": "code",
   "execution_count": null,
   "id": "c4fcb7a0",
   "metadata": {},
   "outputs": [],
   "source": [
    "# 1. Fibonacci Generator\n",
    "def fibonacci(n):\n",
    "    a, b = 0, 1\n",
    "    seq = []\n",
    "    for _ in range(n):\n",
    "        seq.append(a)\n",
    "        a, b = b, a+b\n",
    "    return seq"
   ]
  },
  {
   "cell_type": "code",
   "execution_count": null,
   "id": "2b1862f5",
   "metadata": {},
   "outputs": [],
   "source": [
    "# 2. Factorial Using Recursion\n",
    "def factorial(n):\n",
    "    return 1 if n == 0 else n * factorial(n-1)"
   ]
  },
  {
   "cell_type": "code",
   "execution_count": null,
   "id": "5ef4bde1",
   "metadata": {},
   "outputs": [],
   "source": [
    "# 3. Unique Words Counter\n",
    "def unique_words(sentence):\n",
    "    words = sentence.split()\n",
    "    return {w: words.count(w) for w in set(words)}"
   ]
  },
  {
   "cell_type": "code",
   "execution_count": null,
   "id": "20cfb7a1",
   "metadata": {},
   "outputs": [],
   "source": [
    "# 4. Grade Calculator\n",
    "def grade(marks):\n",
    "    avg = sum(marks)/len(marks)\n",
    "    if avg >= 90: return \"Grade: A+\"\n",
    "    elif avg >= 80: return \"Grade: A\"\n",
    "    elif avg >= 70: return \"Grade: B\"\n",
    "    elif avg >= 60: return \"Grade: C\"\n",
    "    else: return \"Grade: F\""
   ]
  },
  {
   "cell_type": "code",
   "execution_count": null,
   "id": "d09b04be",
   "metadata": {},
   "outputs": [],
   "source": [
    "# 5. Second Largest Number\n",
    "def second_largest(nums):\n",
    "    return sorted(set(nums))[-2]"
   ]
  },
  {
   "cell_type": "code",
   "execution_count": null,
   "id": "8e53479b",
   "metadata": {},
   "outputs": [],
   "source": [
    "import os, statistics, math, random, sys\n",
    "\n",
    "# 1. Count Files by Extension\n",
    "def count_files():\n",
    "    files = os.listdir()\n",
    "    txt = sum(f.endswith(\".txt\") for f in files)\n",
    "    py = sum(f.endswith(\".py\") for f in files)\n",
    "    return f\"Text files: {txt}\\nPython files: {py}\""
   ]
  },
  {
   "cell_type": "code",
   "execution_count": null,
   "id": "b25a6840",
   "metadata": {},
   "outputs": [],
   "source": [
    "import os, statistics, math, random, sys\n",
    "# 2. Exam Score Analysis\n",
    "def exam_analysis(scores):\n",
    "    return (statistics.mean(scores),\n",
    "            statistics.median(scores),\n",
    "            statistics.variance(scores))"
   ]
  },
  {
   "cell_type": "code",
   "execution_count": null,
   "id": "29502658",
   "metadata": {},
   "outputs": [],
   "source": [
    "import os, statistics, math, random, sys\n",
    "# 3. Quadratic Equation Solver\n",
    "def quadratic(a, b, c):\n",
    "    d = math.sqrt(b*b - 4*a*c)\n",
    "    return ((-b+d)/(2*a), (-b-d)/(2*a))"
   ]
  },
  {
   "cell_type": "code",
   "execution_count": null,
   "id": "f64880fc",
   "metadata": {},
   "outputs": [],
   "source": [
    "import os, statistics, math, random, sys\n",
    "# 4. Rock Paper Scissors\n",
    "def rps(user):\n",
    "    comp = random.choice([\"Rock\", \"Paper\", \"Scissors\"])\n",
    "    if user == comp:\n",
    "        result = \"Draw!\"\n",
    "    elif (user, comp) in [(\"Rock\",\"Scissors\"), (\"Paper\",\"Rock\"), (\"Scissors\",\"Paper\")]:\n",
    "        result = \"You Win!\"\n",
    "    else:\n",
    "        result = \"You Lose!\"\n",
    "    return f\"You chose {user}, Computer chose {comp}\\n{result}\""
   ]
  },
  {
   "cell_type": "code",
   "execution_count": null,
   "id": "befa92f6",
   "metadata": {},
   "outputs": [],
   "source": [
    "import os, statistics, math, random, sys\n",
    "# 5. Sum from Command Line\n",
    "def sum_cli():\n",
    "    nums = list(map(int, sys.argv[1:]))\n",
    "    print(\"Sum =\", sum(nums))"
   ]
  },
  {
   "cell_type": "code",
   "execution_count": null,
   "id": "5b7b9daf",
   "metadata": {},
   "outputs": [],
   "source": [
    "# 1. Library System\n",
    "class Library:\n",
    "    def __init__(self, books): self.books = books\n",
    "    def borrow(self, title):\n",
    "        if self.books.get(title,0) > 0:\n",
    "            self.books[title] -= 1\n",
    "            return f\"You borrowed {title}\"\n",
    "        return \"Not available\"\n",
    "    def return_book(self, title):\n",
    "        self.books[title] = self.books.get(title,0)+1\n",
    "        return f\"You returned {title}\"\n",
    "    def show_books(self): print(\"Available books:\", self.books)"
   ]
  },
  {
   "cell_type": "code",
   "execution_count": null,
   "id": "f04624ab",
   "metadata": {},
   "outputs": [],
   "source": [
    "# 2. ATM Machine\n",
    "class ATM:\n",
    "    def __init__(self, pin, bal): self.pin, self.balance, self.is_auth = pin, bal, False\n",
    "    def login(self, pin): self.is_auth = pin==self.pin; return \"Access Granted\" if self.is_auth else \"Wrong PIN\"\n",
    "    def check_balance(self): return f\"Balance: {self.balance}\" if self.is_auth else \"Login first\"\n",
    "    def deposit(self, amt): self.balance+=amt; return f\"Deposited {amt}\"\n",
    "    def withdraw(self, amt): \n",
    "        if amt<=self.balance: self.balance-=amt; return f\"Withdrew {amt}\"\n",
    "        return \"Insufficient funds\""
   ]
  },
  {
   "cell_type": "code",
   "execution_count": null,
   "id": "4df5cef2",
   "metadata": {},
   "outputs": [],
   "source": [
    "# 3. University System\n",
    "class Professor:\n",
    "    def __init__(self,name,sub): self.name,self.subject=name,sub\n",
    "    def teach(self,course): return f\"{self.name} is teaching {course}\"\n",
    "    def give_assignment(self,task): return f\"{self.name} assigned: {task}\"\n",
    "\n",
    "class Student:\n",
    "    def __init__(self,name): self.name,self.courses,self.assignments=name,[],[]\n",
    "    def enroll(self,course): self.courses.append(course); return f\"{self.name} enrolled in {course}\"\n",
    "    def submit_assignment(self,task): self.assignments.append(task); return f\"{self.name} submitted: {task}\""
   ]
  },
  {
   "cell_type": "code",
   "execution_count": null,
   "id": "51f00d8d",
   "metadata": {},
   "outputs": [],
   "source": [
    "# 4. Cinema Booking\n",
    "class Cinema:\n",
    "    def __init__(self,movies): self.movies=movies\n",
    "    def book(self,movie,seats):\n",
    "        if self.movies.get(movie,0)>=seats:\n",
    "            self.movies[movie]-=seats; return f\"Booked {seats} tickets for {movie}\"\n",
    "        return \"Not enough seats\"\n",
    "    def cancel(self,movie,seats): self.movies[movie]+=seats; return f\"Cancelled {seats} ticket for {movie}\"\n",
    "    def show_movies(self): print(\"Movies:\",self.movies)"
   ]
  },
  {
   "cell_type": "code",
   "execution_count": null,
   "id": "cbd4f944",
   "metadata": {},
   "outputs": [],
   "source": [
    "# 5. Restaurant Menu\n",
    "class Menu:\n",
    "    def __init__(self): self.items={}\n",
    "    def add_item(self,n,p): self.items[n]=p; return f\"{n} added\"\n",
    "    def remove_item(self,n): self.items.pop(n,None); return f\"{n} removed\"\n",
    "    def update_price(self,n,p): self.items[n]=p; return f\"{n} price updated to {p}\"\n",
    "    def show_menu(self): print(\"Menu:\",self.items)"
   ]
  }
 ],
 "metadata": {
  "language_info": {
   "name": "python"
  }
 },
 "nbformat": 4,
 "nbformat_minor": 5
}
